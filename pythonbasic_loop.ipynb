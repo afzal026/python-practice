{
  "nbformat": 4,
  "nbformat_minor": 0,
  "metadata": {
    "colab": {
      "provenance": [],
      "authorship_tag": "ABX9TyPbTGfliXUNfOi692sQZ3pc",
      "include_colab_link": true
    },
    "kernelspec": {
      "name": "python3",
      "display_name": "Python 3"
    },
    "language_info": {
      "name": "python"
    }
  },
  "cells": [
    {
      "cell_type": "markdown",
      "metadata": {
        "id": "view-in-github",
        "colab_type": "text"
      },
      "source": [
        "<a href=\"https://colab.research.google.com/github/afzal026/python-practice/blob/main/pythonbasic_loop.ipynb\" target=\"_parent\"><img src=\"https://colab.research.google.com/assets/colab-badge.svg\" alt=\"Open In Colab\"/></a>"
      ]
    },
    {
      "cell_type": "code",
      "execution_count": null,
      "metadata": {
        "colab": {
          "base_uri": "https://localhost:8080/",
          "height": 339
        },
        "id": "FjQED9afZKK8",
        "outputId": "546b32d2-2b28-4342-e067-03df3c8af75a"
      },
      "outputs": [
        {
          "output_type": "error",
          "ename": "FileNotFoundError",
          "evalue": "[Errno 2] No such file or directory: '-f'",
          "traceback": [
            "\u001b[0;31m---------------------------------------------------------------------------\u001b[0m",
            "\u001b[0;31mFileNotFoundError\u001b[0m                         Traceback (most recent call last)",
            "\u001b[0;32m/tmp/ipython-input-1-1171702068.py\u001b[0m in \u001b[0;36m<cell line: 0>\u001b[0;34m()\u001b[0m\n\u001b[1;32m      1\u001b[0m \u001b[0;32mimport\u001b[0m \u001b[0mfileinput\u001b[0m\u001b[0;34m\u001b[0m\u001b[0;34m\u001b[0m\u001b[0m\n\u001b[0;32m----> 2\u001b[0;31m \u001b[0;32mfor\u001b[0m \u001b[0mline\u001b[0m \u001b[0;32min\u001b[0m \u001b[0mfileinput\u001b[0m\u001b[0;34m.\u001b[0m\u001b[0minput\u001b[0m\u001b[0;34m(\u001b[0m\u001b[0;34m)\u001b[0m\u001b[0;34m:\u001b[0m\u001b[0;34m\u001b[0m\u001b[0;34m\u001b[0m\u001b[0m\n\u001b[0m\u001b[1;32m      3\u001b[0m     \u001b[0mprint\u001b[0m\u001b[0;34m(\u001b[0m\u001b[0mline\u001b[0m\u001b[0;34m)\u001b[0m\u001b[0;34m\u001b[0m\u001b[0;34m\u001b[0m\u001b[0m\n",
            "\u001b[0;32m/usr/lib/python3.11/fileinput.py\u001b[0m in \u001b[0;36m__next__\u001b[0;34m(self)\u001b[0m\n\u001b[1;32m    249\u001b[0m     \u001b[0;32mdef\u001b[0m \u001b[0m__next__\u001b[0m\u001b[0;34m(\u001b[0m\u001b[0mself\u001b[0m\u001b[0;34m)\u001b[0m\u001b[0;34m:\u001b[0m\u001b[0;34m\u001b[0m\u001b[0;34m\u001b[0m\u001b[0m\n\u001b[1;32m    250\u001b[0m         \u001b[0;32mwhile\u001b[0m \u001b[0;32mTrue\u001b[0m\u001b[0;34m:\u001b[0m\u001b[0;34m\u001b[0m\u001b[0;34m\u001b[0m\u001b[0m\n\u001b[0;32m--> 251\u001b[0;31m             \u001b[0mline\u001b[0m \u001b[0;34m=\u001b[0m \u001b[0mself\u001b[0m\u001b[0;34m.\u001b[0m\u001b[0m_readline\u001b[0m\u001b[0;34m(\u001b[0m\u001b[0;34m)\u001b[0m\u001b[0;34m\u001b[0m\u001b[0;34m\u001b[0m\u001b[0m\n\u001b[0m\u001b[1;32m    252\u001b[0m             \u001b[0;32mif\u001b[0m \u001b[0mline\u001b[0m\u001b[0;34m:\u001b[0m\u001b[0;34m\u001b[0m\u001b[0;34m\u001b[0m\u001b[0m\n\u001b[1;32m    253\u001b[0m                 \u001b[0mself\u001b[0m\u001b[0;34m.\u001b[0m\u001b[0m_filelineno\u001b[0m \u001b[0;34m+=\u001b[0m \u001b[0;36m1\u001b[0m\u001b[0;34m\u001b[0m\u001b[0;34m\u001b[0m\u001b[0m\n",
            "\u001b[0;32m/usr/lib/python3.11/fileinput.py\u001b[0m in \u001b[0;36m_readline\u001b[0;34m(self)\u001b[0m\n\u001b[1;32m    368\u001b[0m                             self._filename, self._mode, encoding=self._encoding, errors=self._errors)\n\u001b[1;32m    369\u001b[0m                 \u001b[0;32melse\u001b[0m\u001b[0;34m:\u001b[0m\u001b[0;34m\u001b[0m\u001b[0;34m\u001b[0m\u001b[0m\n\u001b[0;32m--> 370\u001b[0;31m                     \u001b[0mself\u001b[0m\u001b[0;34m.\u001b[0m\u001b[0m_file\u001b[0m \u001b[0;34m=\u001b[0m \u001b[0mopen\u001b[0m\u001b[0;34m(\u001b[0m\u001b[0mself\u001b[0m\u001b[0;34m.\u001b[0m\u001b[0m_filename\u001b[0m\u001b[0;34m,\u001b[0m \u001b[0mself\u001b[0m\u001b[0;34m.\u001b[0m\u001b[0m_mode\u001b[0m\u001b[0;34m,\u001b[0m \u001b[0mencoding\u001b[0m\u001b[0;34m=\u001b[0m\u001b[0mencoding\u001b[0m\u001b[0;34m,\u001b[0m \u001b[0merrors\u001b[0m\u001b[0;34m=\u001b[0m\u001b[0mself\u001b[0m\u001b[0;34m.\u001b[0m\u001b[0m_errors\u001b[0m\u001b[0;34m)\u001b[0m\u001b[0;34m\u001b[0m\u001b[0;34m\u001b[0m\u001b[0m\n\u001b[0m\u001b[1;32m    371\u001b[0m         \u001b[0mself\u001b[0m\u001b[0;34m.\u001b[0m\u001b[0m_readline\u001b[0m \u001b[0;34m=\u001b[0m \u001b[0mself\u001b[0m\u001b[0;34m.\u001b[0m\u001b[0m_file\u001b[0m\u001b[0;34m.\u001b[0m\u001b[0mreadline\u001b[0m  \u001b[0;31m# hide FileInput._readline\u001b[0m\u001b[0;34m\u001b[0m\u001b[0;34m\u001b[0m\u001b[0m\n\u001b[1;32m    372\u001b[0m         \u001b[0;32mreturn\u001b[0m \u001b[0mself\u001b[0m\u001b[0;34m.\u001b[0m\u001b[0m_readline\u001b[0m\u001b[0;34m(\u001b[0m\u001b[0;34m)\u001b[0m\u001b[0;34m\u001b[0m\u001b[0;34m\u001b[0m\u001b[0m\n",
            "\u001b[0;31mFileNotFoundError\u001b[0m: [Errno 2] No such file or directory: '-f'"
          ]
        }
      ],
      "source": [
        "import fileinput\n",
        "for line in fileinput.input():\n",
        "    print(line)\n"
      ]
    },
    {
      "cell_type": "code",
      "source": [
        "#tringle\n",
        "n = int(input())\n",
        "\n",
        "\n",
        "for i in range(n):\n",
        "  print(' ' * (n-i-1) + \"*\" * (i+1))"
      ],
      "metadata": {
        "colab": {
          "base_uri": "https://localhost:8080/"
        },
        "id": "xVKwUsjxfEM6",
        "outputId": "5e8a0bff-240e-496b-d543-8b6fe9f90200"
      },
      "execution_count": null,
      "outputs": [
        {
          "output_type": "stream",
          "name": "stdout",
          "text": [
            "7\n",
            "      *\n",
            "     **\n",
            "    ***\n",
            "   ****\n",
            "  *****\n",
            " ******\n",
            "*******\n"
          ]
        }
      ]
    },
    {
      "cell_type": "code",
      "source": [
        "#diamong\n",
        "\n",
        "import sys\n",
        "\n",
        "line = sys.stdin.readline()\n",
        "print(\"hi this is mahin\", line.strip())\n"
      ],
      "metadata": {
        "colab": {
          "base_uri": "https://localhost:8080/"
        },
        "id": "TVfWAQDS7pyL",
        "outputId": "59793db1-64b0-473d-9666-c35f056c6c07"
      },
      "execution_count": null,
      "outputs": [
        {
          "output_type": "stream",
          "name": "stdout",
          "text": [
            "hi this is mahin \n"
          ]
        }
      ]
    },
    {
      "cell_type": "code",
      "source": [
        "import sys\n",
        "line = sys.stdin.readline()\n",
        "print(\"You typed:\", line.strip())\n"
      ],
      "metadata": {
        "colab": {
          "base_uri": "https://localhost:8080/"
        },
        "id": "C-6YEe5885UD",
        "outputId": "89b5a3fd-9a88-4a94-ccfb-4d1029d9c9de"
      },
      "execution_count": null,
      "outputs": [
        {
          "output_type": "stream",
          "name": "stdout",
          "text": [
            "You typed: \n"
          ]
        }
      ]
    },
    {
      "cell_type": "code",
      "source": [
        "print(\"Hello\")\n",
        "print(\"World\")\n",
        "\n",
        "\n",
        "print(\"Hello\", end='...')\n",
        "print(\"World\")\n",
        "\n"
      ],
      "metadata": {
        "colab": {
          "base_uri": "https://localhost:8080/"
        },
        "id": "JZZ2fzMt92fa",
        "outputId": "6b796b17-0e39-47a2-aa19-98114381cafa"
      },
      "execution_count": null,
      "outputs": [
        {
          "output_type": "stream",
          "name": "stdout",
          "text": [
            "Hello\n",
            "World\n",
            "Hello...World\n"
          ]
        }
      ]
    },
    {
      "cell_type": "code",
      "source": [
        "def print_mahin_with_loops():\n",
        "    rows = int(input())\n",
        "\n",
        "    for i in range(rows):\n",
        "        # M\n",
        "        for j in range(rows):\n",
        "            if j == 0 or j == rows - 1 or (i == j and j <= rows // 2) or (i + j == rows - 1 and j >= rows // 2):\n",
        "                print(\"*\", end=\"\")\n",
        "            else:\n",
        "                print(\" \", end=\"\")\n",
        "        print(\"  \", end=\"\")\n",
        "\n",
        "        # A\n",
        "        for j in range(rows):\n",
        "            if (j == 0 or j == rows - 1) and i != 0 or i == 0 and 0 < j < rows - 1 or i == rows // 2:\n",
        "                print(\"*\", end=\"\")\n",
        "            else:\n",
        "                print(\" \", end=\"\")\n",
        "        print(\"  \", end=\"\")\n",
        "\n",
        "        # H\n",
        "        for j in range(rows):\n",
        "            if j == 0 or j == rows - 1 or i == rows // 2:\n",
        "                print(\"*\", end=\"\")\n",
        "            else:\n",
        "                print(\" \", end=\"\")\n",
        "        print(\"  \", end=\"\")\n",
        "\n",
        "        # I\n",
        "        for j in range(rows):\n",
        "            if i == 0 or i == rows - 1 or j == rows // 2:\n",
        "                print(\"*\", end=\"\")\n",
        "            else:\n",
        "                print(\" \", end=\"\")\n",
        "        print(\"  \", end=\"\")\n",
        "\n",
        "        # N\n",
        "        for j in range(rows):\n",
        "            if j == 0 or j == rows - 1 or i == j:\n",
        "                print(\"*\", end=\"\")\n",
        "            else:\n",
        "                print(\" \", end=\"\")\n",
        "        print()\n",
        "\n",
        "print_mahin_with_loops()\n"
      ],
      "metadata": {
        "colab": {
          "base_uri": "https://localhost:8080/"
        },
        "id": "9Rp-TEZZKjCJ",
        "outputId": "e86d86e7-e30b-44db-9ee9-e24ca7d2e507"
      },
      "execution_count": null,
      "outputs": [
        {
          "output_type": "stream",
          "name": "stdout",
          "text": [
            "50\n",
            "*                                                *   ************************************************   *                                                *  **************************************************  *                                                *\n",
            "**                                              **  *                                                *  *                                                *                           *                          **                                               *\n",
            "* *                                            * *  *                                                *  *                                                *                           *                          * *                                              *\n",
            "*  *                                          *  *  *                                                *  *                                                *                           *                          *  *                                             *\n",
            "*   *                                        *   *  *                                                *  *                                                *                           *                          *   *                                            *\n",
            "*    *                                      *    *  *                                                *  *                                                *                           *                          *    *                                           *\n",
            "*     *                                    *     *  *                                                *  *                                                *                           *                          *     *                                          *\n",
            "*      *                                  *      *  *                                                *  *                                                *                           *                          *      *                                         *\n",
            "*       *                                *       *  *                                                *  *                                                *                           *                          *       *                                        *\n",
            "*        *                              *        *  *                                                *  *                                                *                           *                          *        *                                       *\n",
            "*         *                            *         *  *                                                *  *                                                *                           *                          *         *                                      *\n",
            "*          *                          *          *  *                                                *  *                                                *                           *                          *          *                                     *\n",
            "*           *                        *           *  *                                                *  *                                                *                           *                          *           *                                    *\n",
            "*            *                      *            *  *                                                *  *                                                *                           *                          *            *                                   *\n",
            "*             *                    *             *  *                                                *  *                                                *                           *                          *             *                                  *\n",
            "*              *                  *              *  *                                                *  *                                                *                           *                          *              *                                 *\n",
            "*               *                *               *  *                                                *  *                                                *                           *                          *               *                                *\n",
            "*                *              *                *  *                                                *  *                                                *                           *                          *                *                               *\n",
            "*                 *            *                 *  *                                                *  *                                                *                           *                          *                 *                              *\n",
            "*                  *          *                  *  *                                                *  *                                                *                           *                          *                  *                             *\n",
            "*                   *        *                   *  *                                                *  *                                                *                           *                          *                   *                            *\n",
            "*                    *      *                    *  *                                                *  *                                                *                           *                          *                    *                           *\n",
            "*                     *    *                     *  *                                                *  *                                                *                           *                          *                     *                          *\n",
            "*                      *  *                      *  *                                                *  *                                                *                           *                          *                      *                         *\n",
            "*                       **                       *  *                                                *  *                                                *                           *                          *                       *                        *\n",
            "*                        *                       *  **************************************************  **************************************************                           *                          *                        *                       *\n",
            "*                                                *  *                                                *  *                                                *                           *                          *                         *                      *\n",
            "*                                                *  *                                                *  *                                                *                           *                          *                          *                     *\n",
            "*                                                *  *                                                *  *                                                *                           *                          *                           *                    *\n",
            "*                                                *  *                                                *  *                                                *                           *                          *                            *                   *\n",
            "*                                                *  *                                                *  *                                                *                           *                          *                             *                  *\n",
            "*                                                *  *                                                *  *                                                *                           *                          *                              *                 *\n",
            "*                                                *  *                                                *  *                                                *                           *                          *                               *                *\n",
            "*                                                *  *                                                *  *                                                *                           *                          *                                *               *\n",
            "*                                                *  *                                                *  *                                                *                           *                          *                                 *              *\n",
            "*                                                *  *                                                *  *                                                *                           *                          *                                  *             *\n",
            "*                                                *  *                                                *  *                                                *                           *                          *                                   *            *\n",
            "*                                                *  *                                                *  *                                                *                           *                          *                                    *           *\n",
            "*                                                *  *                                                *  *                                                *                           *                          *                                     *          *\n",
            "*                                                *  *                                                *  *                                                *                           *                          *                                      *         *\n",
            "*                                                *  *                                                *  *                                                *                           *                          *                                       *        *\n",
            "*                                                *  *                                                *  *                                                *                           *                          *                                        *       *\n",
            "*                                                *  *                                                *  *                                                *                           *                          *                                         *      *\n",
            "*                                                *  *                                                *  *                                                *                           *                          *                                          *     *\n",
            "*                                                *  *                                                *  *                                                *                           *                          *                                           *    *\n",
            "*                                                *  *                                                *  *                                                *                           *                          *                                            *   *\n",
            "*                                                *  *                                                *  *                                                *                           *                          *                                             *  *\n",
            "*                                                *  *                                                *  *                                                *                           *                          *                                              * *\n",
            "*                                                *  *                                                *  *                                                *                           *                          *                                               **\n",
            "*                                                *  *                                                *  *                                                *  **************************************************  *                                                *\n"
          ]
        }
      ]
    },
    {
      "cell_type": "code",
      "source": [
        "while(True):\n",
        "  try:\n",
        "    num = int(input())\n",
        "    if num <= 5:\n",
        "      break\n",
        "    else:\n",
        "      print(\"enter value greater than 4\")\n",
        "  except ValueError:\n",
        "    print(\"invalid number\")\n",
        "\n",
        "for i in range(int(num/2)+1):\n",
        "  print(\" \" * int(num/2-i) + \"*\" * i+1)"
      ],
      "metadata": {
        "colab": {
          "base_uri": "https://localhost:8080/",
          "height": 193
        },
        "id": "UH7eP7FlLoKQ",
        "outputId": "41c6c1c6-da40-4e50-e9f2-ecfb4e5670ea"
      },
      "execution_count": null,
      "outputs": [
        {
          "name": "stdout",
          "output_type": "stream",
          "text": [
            "5\n"
          ]
        },
        {
          "output_type": "error",
          "ename": "TypeError",
          "evalue": "can only concatenate str (not \"int\") to str",
          "traceback": [
            "\u001b[0;31m---------------------------------------------------------------------------\u001b[0m",
            "\u001b[0;31mTypeError\u001b[0m                                 Traceback (most recent call last)",
            "\u001b[0;32m/tmp/ipython-input-33-1027276992.py\u001b[0m in \u001b[0;36m<cell line: 0>\u001b[0;34m()\u001b[0m\n\u001b[1;32m     10\u001b[0m \u001b[0;34m\u001b[0m\u001b[0m\n\u001b[1;32m     11\u001b[0m \u001b[0;32mfor\u001b[0m \u001b[0mi\u001b[0m \u001b[0;32min\u001b[0m \u001b[0mrange\u001b[0m\u001b[0;34m(\u001b[0m\u001b[0mint\u001b[0m\u001b[0;34m(\u001b[0m\u001b[0mnum\u001b[0m\u001b[0;34m/\u001b[0m\u001b[0;36m2\u001b[0m\u001b[0;34m)\u001b[0m\u001b[0;34m+\u001b[0m\u001b[0;36m1\u001b[0m\u001b[0;34m)\u001b[0m\u001b[0;34m:\u001b[0m\u001b[0;34m\u001b[0m\u001b[0;34m\u001b[0m\u001b[0m\n\u001b[0;32m---> 12\u001b[0;31m   \u001b[0mprint\u001b[0m\u001b[0;34m(\u001b[0m\u001b[0;34m\" \"\u001b[0m \u001b[0;34m*\u001b[0m \u001b[0mint\u001b[0m\u001b[0;34m(\u001b[0m\u001b[0mnum\u001b[0m\u001b[0;34m/\u001b[0m\u001b[0;36m2\u001b[0m\u001b[0;34m-\u001b[0m\u001b[0mi\u001b[0m\u001b[0;34m)\u001b[0m \u001b[0;34m+\u001b[0m \u001b[0;34m\"*\"\u001b[0m \u001b[0;34m*\u001b[0m \u001b[0mi\u001b[0m\u001b[0;34m+\u001b[0m\u001b[0;36m1\u001b[0m\u001b[0;34m)\u001b[0m\u001b[0;34m\u001b[0m\u001b[0;34m\u001b[0m\u001b[0m\n\u001b[0m",
            "\u001b[0;31mTypeError\u001b[0m: can only concatenate str (not \"int\") to str"
          ]
        }
      ]
    },
    {
      "cell_type": "markdown",
      "metadata": {
        "id": "f12a3639"
      },
      "source": [
        "The original code snippet:"
      ]
    },
    {
      "cell_type": "code",
      "metadata": {
        "id": "8b404d1b"
      },
      "source": [
        "for i in range(int(num/2)+1):\n",
        "  print(\" \" * int(num/2-i) + \"*\" * i+1)"
      ],
      "execution_count": null,
      "outputs": []
    },
    {
      "cell_type": "code",
      "metadata": {
        "colab": {
          "base_uri": "https://localhost:8080/"
        },
        "id": "69153b96",
        "outputId": "3891b7c6-0f02-4589-8d1d-f85c38cc20ba"
      },
      "source": [
        "\n",
        "\n",
        "while(True):\n",
        "  try:\n",
        "    num = int(input())\n",
        "    if num >= 3:\n",
        "      break\n",
        "    else:\n",
        "      print(\"enter value greater than 4\")\n",
        "  except ValueError:\n",
        "    print(\"invalid number\")\n",
        "\n",
        "for i in range(num):\n",
        "  print(\" \" * (num-i+1) + \"*\" * (i*2+1))\n",
        "\n",
        "for i in range(num):\n",
        "  print(\" \" + \"*\", end = \"\")\n",
        "  if i!= num-1:\n",
        "    print(\" \" * (num*2-1) + \"*\" * 1)\n",
        "  else:\n",
        "    print(\"*\" * (i*2+1))\n"
      ],
      "execution_count": null,
      "outputs": [
        {
          "output_type": "stream",
          "name": "stdout",
          "text": [
            "4\n",
            "     *\n",
            "    ***\n",
            "   *****\n",
            "  *******\n",
            " *     *\n",
            " *    *\n",
            " *   *\n",
            " ********\n"
          ]
        }
      ]
    },
    {
      "cell_type": "code",
      "source": [
        "# prompt: want to print house with star\n",
        "\n",
        "while True:\n",
        "  try:\n",
        "    num = int(input(\"Enter the size of the house (minimum 3): \"))\n",
        "    if num >= 3:\n",
        "      break\n",
        "    else:\n",
        "      print(\"Please enter a value greater than or equal to 3.\")\n",
        "  except ValueError:\n",
        "    print(\"Invalid input. Please enter an integer.\")\n",
        "\n",
        "# Print the roof of the house (triangle)\n",
        "for i in range(num):\n",
        "    print(\" \" * (num - i - 1) + \"*\" * (2 * i + 1))\n",
        "\n",
        "# Print the base of the house (rectangle)\n",
        "# The base will have 'num' rows\n",
        "for i in range(num):\n",
        "    if i == num - 1:\n",
        "        # Last line of the base: print all stars\n",
        "        print(\"*\" * (2 * num - 1))\n",
        "    else:\n",
        "        # Other lines of the base: print star, space, star pattern\n",
        "        # The width of the base is 2*num - 1.\n",
        "        # We need a star at the beginning and end, and spaces in between.\n",
        "        print(\"*\" + \" \" * (2 * num - 3) + \"*\")"
      ],
      "metadata": {
        "colab": {
          "base_uri": "https://localhost:8080/"
        },
        "id": "4vgzDkSiaVia",
        "outputId": "8c2a84ac-4776-4e62-e430-7b7e638cea59"
      },
      "execution_count": null,
      "outputs": [
        {
          "output_type": "stream",
          "name": "stdout",
          "text": [
            "Enter the size of the house (minimum 3): 3\n",
            "  *\n",
            " ***\n",
            "*****\n",
            "*****\n",
            "*****\n",
            "*****\n"
          ]
        }
      ]
    },
    {
      "cell_type": "code",
      "source": [
        "if True:\n",
        "   print (\"Answer\")\n",
        "   print (\"True\")\n",
        "else:\n",
        "   print (\"Answer\")\n",
        "   print (\"False\")"
      ],
      "metadata": {
        "id": "IdGF2rUa6u4O",
        "outputId": "0463bdc6-0a04-475d-ed30-0330e56bb4c0",
        "colab": {
          "base_uri": "https://localhost:8080/"
        }
      },
      "execution_count": null,
      "outputs": [
        {
          "output_type": "stream",
          "name": "stdout",
          "text": [
            "Answer\n",
            "True\n"
          ]
        }
      ]
    }
  ]
}